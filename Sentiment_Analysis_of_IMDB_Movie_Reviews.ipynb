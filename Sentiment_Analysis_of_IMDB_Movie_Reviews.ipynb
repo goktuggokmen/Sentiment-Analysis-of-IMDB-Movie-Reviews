{
  "nbformat": 4,
  "nbformat_minor": 0,
  "metadata": {
    "colab": {
      "name": "Sentiment Analysis of IMDB Movie Reviews.ipynb",
      "provenance": [],
      "collapsed_sections": [
        "cZssFjb-czMd",
        "uOavEALworgO",
        "Xq0axUusqIRT",
        "0c2AOVdtdjWZ",
        "pUd7pOXZyZDc",
        "3EGVCcCGoD1k",
        "iRtBqoOopaat",
        "ONL-nk-L8bui",
        "oclu8E5U91LJ",
        "ix36n0_S_W3S",
        "HjUM6I0iGrGc"
      ],
      "mount_file_id": "1dbb9Jr7XDDxTM6AYexBTFcY8yGLFwDXd",
      "authorship_tag": "ABX9TyOGPVUoDUOItm9SqPUr/qen",
      "include_colab_link": true
    },
    "kernelspec": {
      "name": "python3",
      "display_name": "Python 3"
    },
    "language_info": {
      "name": "python"
    }
  },
  "cells": [
    {
      "cell_type": "markdown",
      "metadata": {
        "id": "view-in-github",
        "colab_type": "text"
      },
      "source": [
        "<a href=\"https://colab.research.google.com/github/goktuggokmen/Sentiment-Analysis-of-IMDB-Movie-Reviews/blob/main/Sentiment_Analysis_of_IMDB_Movie_Reviews.ipynb\" target=\"_parent\"><img src=\"https://colab.research.google.com/assets/colab-badge.svg\" alt=\"Open In Colab\"/></a>"
      ]
    },
    {
      "cell_type": "markdown",
      "source": [
        "# **<font color='red'>Problem Tanımı</font>**"
      ],
      "metadata": {
        "id": "cZssFjb-czMd"
      }
    },
    {
      "cell_type": "markdown",
      "source": [
        "**Projemizde kullanılmak üzere seçilen IMDb veri seti csv uzantılıdır,50000 (elli bin) veri içermektedir ve \"reviews (incelemeler)\" ve \"sentiment (duygu)\" olmak üzere 2 kolondan oluşmaktadır. \"reviews\" kolonu IMDb.com sitesindeki çeşitli filmlere yapılan değerlendirmeleri içermektedir ve \"sentiment\" kolonu da bu değerlendirmelerin olumlu mu olumsuz mu olduğu bilgisini içermektedir.Çeşitli classifierlar oluşturularak yorumların olumlu mu olumsuz mu olduğu tahmin edilmeye çalışılacaktır. Daha sonra oluşturulan bu modellerin performansları birbirleriyle karşılaştırılıcaktır.**  "
      ],
      "metadata": {
        "id": "80pC7v15c20a"
      }
    },
    {
      "cell_type": "markdown",
      "source": [
        "# **<font color='red'>1. Kütüphanelerin Yüklenmesi ve Verinin Dosyadan Okunması</font>**"
      ],
      "metadata": {
        "id": "uOavEALworgO"
      }
    },
    {
      "cell_type": "markdown",
      "source": [
        "**<font color='red'>a. Kütüphanelerin Yüklenmesi</font>**"
      ],
      "metadata": {
        "id": "IlZT5dL8o-Ye"
      }
    },
    {
      "cell_type": "code",
      "source": [
        "from google.colab import drive\n",
        "drive.mount('/content/drive')"
      ],
      "metadata": {
        "colab": {
          "base_uri": "https://localhost:8080/"
        },
        "id": "tSLUgYvWqiwr",
        "outputId": "794f536a-4e52-47fa-8fdc-86422cb1662c"
      },
      "execution_count": null,
      "outputs": [
        {
          "output_type": "stream",
          "name": "stdout",
          "text": [
            "Drive already mounted at /content/drive; to attempt to forcibly remount, call drive.mount(\"/content/drive\", force_remount=True).\n"
          ]
        }
      ]
    },
    {
      "cell_type": "code",
      "execution_count": null,
      "metadata": {
        "colab": {
          "base_uri": "https://localhost:8080/"
        },
        "id": "p2Nnwa5UZ-38",
        "outputId": "7a99730a-b609-4dc7-b149-e5ace2992a3a"
      },
      "outputs": [
        {
          "output_type": "stream",
          "name": "stdout",
          "text": [
            "['IMDB_Dataset.csv', 'IMDb Film İncelemelerinin Duygu Analizi.ipynb']\n"
          ]
        }
      ],
      "source": [
        "#Kullanilacak kutuphanelerin yuklenmesi\n",
        "import numpy as np\n",
        "import pandas as pd\n",
        "import seaborn as sns\n",
        "import matplotlib.pyplot as plt\n",
        "import nltk\n",
        "from sklearn.feature_extraction.text import CountVectorizer\n",
        "from sklearn.feature_extraction.text import TfidfVectorizer\n",
        "from sklearn.preprocessing import LabelBinarizer\n",
        "from sklearn.model_selection import train_test_split\n",
        "from nltk.corpus import stopwords\n",
        "from nltk.stem.porter import PorterStemmer\n",
        "from wordcloud import WordCloud,STOPWORDS\n",
        "from nltk.stem import WordNetLemmatizer\n",
        "from nltk.tokenize import word_tokenize,sent_tokenize\n",
        "from bs4 import BeautifulSoup\n",
        "import spacy\n",
        "import re,string,unicodedata\n",
        "from nltk.tokenize.toktok import ToktokTokenizer\n",
        "from nltk.stem import LancasterStemmer,WordNetLemmatizer\n",
        "from sklearn.linear_model import LogisticRegression,SGDClassifier\n",
        "from sklearn.naive_bayes import MultinomialNB\n",
        "from sklearn.svm import SVC\n",
        "from textblob import TextBlob\n",
        "from textblob import Word\n",
        "from sklearn.metrics import classification_report,confusion_matrix,accuracy_score\n",
        "import os\n",
        "print(os.listdir(\"/content/drive/MyDrive/Colab Notebooks/Machine Learning/Ders Projesi/\"))\n",
        "import warnings\n",
        "warnings.filterwarnings('ignore')"
      ]
    },
    {
      "cell_type": "markdown",
      "source": [
        "**<font color='red'>b. Verinin Dosyadan Okunması</font>**"
      ],
      "metadata": {
        "id": "dNxP5qcupQ-U"
      }
    },
    {
      "cell_type": "code",
      "source": [
        "#Verinin dosyadan okunmasi\n",
        "imdb_data=pd.read_csv('/content/drive/MyDrive/Colab Notebooks/Machine Learning/Ders Projesi/IMDB_Dataset.csv')\n",
        "print(\"Veri setinin boyutu:\", imdb_data.shape)\n",
        "imdb_data.head(10)"
      ],
      "metadata": {
        "colab": {
          "base_uri": "https://localhost:8080/"
        },
        "id": "JwHyDUeWpPfd",
        "outputId": "7fe077f7-4f4e-4379-bbc5-423a53b1e95b"
      },
      "execution_count": null,
      "outputs": [
        {
          "output_type": "stream",
          "name": "stdout",
          "text": [
            "Veri setinin boyutu: (50000, 2)\n"
          ]
        },
        {
          "output_type": "execute_result",
          "data": {
            "text/html": [
              "\n",
              "  <div id=\"df-910399c5-7517-4c7c-8f06-f5548e99c780\">\n",
              "    <div class=\"colab-df-container\">\n",
              "      <div>\n",
              "<style scoped>\n",
              "    .dataframe tbody tr th:only-of-type {\n",
              "        vertical-align: middle;\n",
              "    }\n",
              "\n",
              "    .dataframe tbody tr th {\n",
              "        vertical-align: top;\n",
              "    }\n",
              "\n",
              "    .dataframe thead th {\n",
              "        text-align: right;\n",
              "    }\n",
              "</style>\n",
              "<table border=\"1\" class=\"dataframe\">\n",
              "  <thead>\n",
              "    <tr style=\"text-align: right;\">\n",
              "      <th></th>\n",
              "      <th>review</th>\n",
              "      <th>sentiment</th>\n",
              "    </tr>\n",
              "  </thead>\n",
              "  <tbody>\n",
              "    <tr>\n",
              "      <th>0</th>\n",
              "      <td>One of the other reviewers has mentioned that ...</td>\n",
              "      <td>positive</td>\n",
              "    </tr>\n",
              "    <tr>\n",
              "      <th>1</th>\n",
              "      <td>A wonderful little production. &lt;br /&gt;&lt;br /&gt;The...</td>\n",
              "      <td>positive</td>\n",
              "    </tr>\n",
              "    <tr>\n",
              "      <th>2</th>\n",
              "      <td>I thought this was a wonderful way to spend ti...</td>\n",
              "      <td>positive</td>\n",
              "    </tr>\n",
              "    <tr>\n",
              "      <th>3</th>\n",
              "      <td>Basically there's a family where a little boy ...</td>\n",
              "      <td>negative</td>\n",
              "    </tr>\n",
              "    <tr>\n",
              "      <th>4</th>\n",
              "      <td>Petter Mattei's \"Love in the Time of Money\" is...</td>\n",
              "      <td>positive</td>\n",
              "    </tr>\n",
              "    <tr>\n",
              "      <th>5</th>\n",
              "      <td>Probably my all-time favorite movie, a story o...</td>\n",
              "      <td>positive</td>\n",
              "    </tr>\n",
              "    <tr>\n",
              "      <th>6</th>\n",
              "      <td>I sure would like to see a resurrection of a u...</td>\n",
              "      <td>positive</td>\n",
              "    </tr>\n",
              "    <tr>\n",
              "      <th>7</th>\n",
              "      <td>This show was an amazing, fresh &amp; innovative i...</td>\n",
              "      <td>negative</td>\n",
              "    </tr>\n",
              "    <tr>\n",
              "      <th>8</th>\n",
              "      <td>Encouraged by the positive comments about this...</td>\n",
              "      <td>negative</td>\n",
              "    </tr>\n",
              "    <tr>\n",
              "      <th>9</th>\n",
              "      <td>If you like original gut wrenching laughter yo...</td>\n",
              "      <td>positive</td>\n",
              "    </tr>\n",
              "  </tbody>\n",
              "</table>\n",
              "</div>\n",
              "      <button class=\"colab-df-convert\" onclick=\"convertToInteractive('df-910399c5-7517-4c7c-8f06-f5548e99c780')\"\n",
              "              title=\"Convert this dataframe to an interactive table.\"\n",
              "              style=\"display:none;\">\n",
              "        \n",
              "  <svg xmlns=\"http://www.w3.org/2000/svg\" height=\"24px\"viewBox=\"0 0 24 24\"\n",
              "       width=\"24px\">\n",
              "    <path d=\"M0 0h24v24H0V0z\" fill=\"none\"/>\n",
              "    <path d=\"M18.56 5.44l.94 2.06.94-2.06 2.06-.94-2.06-.94-.94-2.06-.94 2.06-2.06.94zm-11 1L8.5 8.5l.94-2.06 2.06-.94-2.06-.94L8.5 2.5l-.94 2.06-2.06.94zm10 10l.94 2.06.94-2.06 2.06-.94-2.06-.94-.94-2.06-.94 2.06-2.06.94z\"/><path d=\"M17.41 7.96l-1.37-1.37c-.4-.4-.92-.59-1.43-.59-.52 0-1.04.2-1.43.59L10.3 9.45l-7.72 7.72c-.78.78-.78 2.05 0 2.83L4 21.41c.39.39.9.59 1.41.59.51 0 1.02-.2 1.41-.59l7.78-7.78 2.81-2.81c.8-.78.8-2.07 0-2.86zM5.41 20L4 18.59l7.72-7.72 1.47 1.35L5.41 20z\"/>\n",
              "  </svg>\n",
              "      </button>\n",
              "      \n",
              "  <style>\n",
              "    .colab-df-container {\n",
              "      display:flex;\n",
              "      flex-wrap:wrap;\n",
              "      gap: 12px;\n",
              "    }\n",
              "\n",
              "    .colab-df-convert {\n",
              "      background-color: #E8F0FE;\n",
              "      border: none;\n",
              "      border-radius: 50%;\n",
              "      cursor: pointer;\n",
              "      display: none;\n",
              "      fill: #1967D2;\n",
              "      height: 32px;\n",
              "      padding: 0 0 0 0;\n",
              "      width: 32px;\n",
              "    }\n",
              "\n",
              "    .colab-df-convert:hover {\n",
              "      background-color: #E2EBFA;\n",
              "      box-shadow: 0px 1px 2px rgba(60, 64, 67, 0.3), 0px 1px 3px 1px rgba(60, 64, 67, 0.15);\n",
              "      fill: #174EA6;\n",
              "    }\n",
              "\n",
              "    [theme=dark] .colab-df-convert {\n",
              "      background-color: #3B4455;\n",
              "      fill: #D2E3FC;\n",
              "    }\n",
              "\n",
              "    [theme=dark] .colab-df-convert:hover {\n",
              "      background-color: #434B5C;\n",
              "      box-shadow: 0px 1px 3px 1px rgba(0, 0, 0, 0.15);\n",
              "      filter: drop-shadow(0px 1px 2px rgba(0, 0, 0, 0.3));\n",
              "      fill: #FFFFFF;\n",
              "    }\n",
              "  </style>\n",
              "\n",
              "      <script>\n",
              "        const buttonEl =\n",
              "          document.querySelector('#df-910399c5-7517-4c7c-8f06-f5548e99c780 button.colab-df-convert');\n",
              "        buttonEl.style.display =\n",
              "          google.colab.kernel.accessAllowed ? 'block' : 'none';\n",
              "\n",
              "        async function convertToInteractive(key) {\n",
              "          const element = document.querySelector('#df-910399c5-7517-4c7c-8f06-f5548e99c780');\n",
              "          const dataTable =\n",
              "            await google.colab.kernel.invokeFunction('convertToInteractive',\n",
              "                                                     [key], {});\n",
              "          if (!dataTable) return;\n",
              "\n",
              "          const docLinkHtml = 'Like what you see? Visit the ' +\n",
              "            '<a target=\"_blank\" href=https://colab.research.google.com/notebooks/data_table.ipynb>data table notebook</a>'\n",
              "            + ' to learn more about interactive tables.';\n",
              "          element.innerHTML = '';\n",
              "          dataTable['output_type'] = 'display_data';\n",
              "          await google.colab.output.renderOutput(dataTable, element);\n",
              "          const docLink = document.createElement('div');\n",
              "          docLink.innerHTML = docLinkHtml;\n",
              "          element.appendChild(docLink);\n",
              "        }\n",
              "      </script>\n",
              "    </div>\n",
              "  </div>\n",
              "  "
            ],
            "text/plain": [
              "                                              review sentiment\n",
              "0  One of the other reviewers has mentioned that ...  positive\n",
              "1  A wonderful little production. <br /><br />The...  positive\n",
              "2  I thought this was a wonderful way to spend ti...  positive\n",
              "3  Basically there's a family where a little boy ...  negative\n",
              "4  Petter Mattei's \"Love in the Time of Money\" is...  positive\n",
              "5  Probably my all-time favorite movie, a story o...  positive\n",
              "6  I sure would like to see a resurrection of a u...  positive\n",
              "7  This show was an amazing, fresh & innovative i...  negative\n",
              "8  Encouraged by the positive comments about this...  negative\n",
              "9  If you like original gut wrenching laughter yo...  positive"
            ]
          },
          "metadata": {},
          "execution_count": 3
        }
      ]
    },
    {
      "cell_type": "markdown",
      "source": [
        "**<font color='black'>Veri seti daha önce de bahsettiğimiz gibi 2 sütun ve 50000 (elli bin) satırdan oluşmaktadır.</font>**"
      ],
      "metadata": {
        "id": "gRhMB6btqrO0"
      }
    },
    {
      "cell_type": "markdown",
      "source": [
        "# **<font color='red'>2. Veri Keşfi</font>**"
      ],
      "metadata": {
        "id": "Xq0axUusqIRT"
      }
    },
    {
      "cell_type": "code",
      "source": [
        "#Veri setinin ozeti\n",
        "imdb_data.describe()"
      ],
      "metadata": {
        "colab": {
          "base_uri": "https://localhost:8080/"
        },
        "id": "xiCldE7lqVWF",
        "outputId": "ff96ddb1-6eca-405a-dae9-6f2006a5ce0a"
      },
      "execution_count": null,
      "outputs": [
        {
          "output_type": "execute_result",
          "data": {
            "text/html": [
              "\n",
              "  <div id=\"df-28f409c9-cd2c-463d-802d-b3b12f8c5fbc\">\n",
              "    <div class=\"colab-df-container\">\n",
              "      <div>\n",
              "<style scoped>\n",
              "    .dataframe tbody tr th:only-of-type {\n",
              "        vertical-align: middle;\n",
              "    }\n",
              "\n",
              "    .dataframe tbody tr th {\n",
              "        vertical-align: top;\n",
              "    }\n",
              "\n",
              "    .dataframe thead th {\n",
              "        text-align: right;\n",
              "    }\n",
              "</style>\n",
              "<table border=\"1\" class=\"dataframe\">\n",
              "  <thead>\n",
              "    <tr style=\"text-align: right;\">\n",
              "      <th></th>\n",
              "      <th>review</th>\n",
              "      <th>sentiment</th>\n",
              "    </tr>\n",
              "  </thead>\n",
              "  <tbody>\n",
              "    <tr>\n",
              "      <th>count</th>\n",
              "      <td>50000</td>\n",
              "      <td>50000</td>\n",
              "    </tr>\n",
              "    <tr>\n",
              "      <th>unique</th>\n",
              "      <td>49582</td>\n",
              "      <td>2</td>\n",
              "    </tr>\n",
              "    <tr>\n",
              "      <th>top</th>\n",
              "      <td>Loved today's show!!! It was a variety and not...</td>\n",
              "      <td>positive</td>\n",
              "    </tr>\n",
              "    <tr>\n",
              "      <th>freq</th>\n",
              "      <td>5</td>\n",
              "      <td>25000</td>\n",
              "    </tr>\n",
              "  </tbody>\n",
              "</table>\n",
              "</div>\n",
              "      <button class=\"colab-df-convert\" onclick=\"convertToInteractive('df-28f409c9-cd2c-463d-802d-b3b12f8c5fbc')\"\n",
              "              title=\"Convert this dataframe to an interactive table.\"\n",
              "              style=\"display:none;\">\n",
              "        \n",
              "  <svg xmlns=\"http://www.w3.org/2000/svg\" height=\"24px\"viewBox=\"0 0 24 24\"\n",
              "       width=\"24px\">\n",
              "    <path d=\"M0 0h24v24H0V0z\" fill=\"none\"/>\n",
              "    <path d=\"M18.56 5.44l.94 2.06.94-2.06 2.06-.94-2.06-.94-.94-2.06-.94 2.06-2.06.94zm-11 1L8.5 8.5l.94-2.06 2.06-.94-2.06-.94L8.5 2.5l-.94 2.06-2.06.94zm10 10l.94 2.06.94-2.06 2.06-.94-2.06-.94-.94-2.06-.94 2.06-2.06.94z\"/><path d=\"M17.41 7.96l-1.37-1.37c-.4-.4-.92-.59-1.43-.59-.52 0-1.04.2-1.43.59L10.3 9.45l-7.72 7.72c-.78.78-.78 2.05 0 2.83L4 21.41c.39.39.9.59 1.41.59.51 0 1.02-.2 1.41-.59l7.78-7.78 2.81-2.81c.8-.78.8-2.07 0-2.86zM5.41 20L4 18.59l7.72-7.72 1.47 1.35L5.41 20z\"/>\n",
              "  </svg>\n",
              "      </button>\n",
              "      \n",
              "  <style>\n",
              "    .colab-df-container {\n",
              "      display:flex;\n",
              "      flex-wrap:wrap;\n",
              "      gap: 12px;\n",
              "    }\n",
              "\n",
              "    .colab-df-convert {\n",
              "      background-color: #E8F0FE;\n",
              "      border: none;\n",
              "      border-radius: 50%;\n",
              "      cursor: pointer;\n",
              "      display: none;\n",
              "      fill: #1967D2;\n",
              "      height: 32px;\n",
              "      padding: 0 0 0 0;\n",
              "      width: 32px;\n",
              "    }\n",
              "\n",
              "    .colab-df-convert:hover {\n",
              "      background-color: #E2EBFA;\n",
              "      box-shadow: 0px 1px 2px rgba(60, 64, 67, 0.3), 0px 1px 3px 1px rgba(60, 64, 67, 0.15);\n",
              "      fill: #174EA6;\n",
              "    }\n",
              "\n",
              "    [theme=dark] .colab-df-convert {\n",
              "      background-color: #3B4455;\n",
              "      fill: #D2E3FC;\n",
              "    }\n",
              "\n",
              "    [theme=dark] .colab-df-convert:hover {\n",
              "      background-color: #434B5C;\n",
              "      box-shadow: 0px 1px 3px 1px rgba(0, 0, 0, 0.15);\n",
              "      filter: drop-shadow(0px 1px 2px rgba(0, 0, 0, 0.3));\n",
              "      fill: #FFFFFF;\n",
              "    }\n",
              "  </style>\n",
              "\n",
              "      <script>\n",
              "        const buttonEl =\n",
              "          document.querySelector('#df-28f409c9-cd2c-463d-802d-b3b12f8c5fbc button.colab-df-convert');\n",
              "        buttonEl.style.display =\n",
              "          google.colab.kernel.accessAllowed ? 'block' : 'none';\n",
              "\n",
              "        async function convertToInteractive(key) {\n",
              "          const element = document.querySelector('#df-28f409c9-cd2c-463d-802d-b3b12f8c5fbc');\n",
              "          const dataTable =\n",
              "            await google.colab.kernel.invokeFunction('convertToInteractive',\n",
              "                                                     [key], {});\n",
              "          if (!dataTable) return;\n",
              "\n",
              "          const docLinkHtml = 'Like what you see? Visit the ' +\n",
              "            '<a target=\"_blank\" href=https://colab.research.google.com/notebooks/data_table.ipynb>data table notebook</a>'\n",
              "            + ' to learn more about interactive tables.';\n",
              "          element.innerHTML = '';\n",
              "          dataTable['output_type'] = 'display_data';\n",
              "          await google.colab.output.renderOutput(dataTable, element);\n",
              "          const docLink = document.createElement('div');\n",
              "          docLink.innerHTML = docLinkHtml;\n",
              "          element.appendChild(docLink);\n",
              "        }\n",
              "      </script>\n",
              "    </div>\n",
              "  </div>\n",
              "  "
            ],
            "text/plain": [
              "                                                   review sentiment\n",
              "count                                               50000     50000\n",
              "unique                                              49582         2\n",
              "top     Loved today's show!!! It was a variety and not...  positive\n",
              "freq                                                    5     25000"
            ]
          },
          "metadata": {},
          "execution_count": 4
        }
      ]
    },
    {
      "cell_type": "markdown",
      "source": [
        "**<font color='black'>\"review\" kolonuna ait 50000 değerlendirmeden 49582 tanesi unique (eşsiz) ve 'positive' etiketli bir değerlendirme 5 kez yapılmıştır (aynı yorum 5 kez yapılmıştır).</font>**"
      ],
      "metadata": {
        "id": "nSP_3UnAr4zM"
      }
    },
    {
      "cell_type": "code",
      "source": [
        "#olumlu ve olumsuz degerlendirme sayisi\n",
        "imdb_data[\"sentiment\"].value_counts()"
      ],
      "metadata": {
        "colab": {
          "base_uri": "https://localhost:8080/"
        },
        "id": "V3nFtQHetAdE",
        "outputId": "d3caf9db-ac8a-45ec-f599-e9937cff6787"
      },
      "execution_count": null,
      "outputs": [
        {
          "output_type": "execute_result",
          "data": {
            "text/plain": [
              "positive    25000\n",
              "negative    25000\n",
              "Name: sentiment, dtype: int64"
            ]
          },
          "metadata": {},
          "execution_count": 5
        }
      ]
    },
    {
      "cell_type": "markdown",
      "source": [
        "**<font color='black'>Olumlu ve olumsuz değerlendirmelerin her ikisi de 25000 (yirmi beş bin) tane olup dengeli dağılmıştır.</font>**"
      ],
      "metadata": {
        "id": "mnlw21A6vFWt"
      }
    },
    {
      "cell_type": "markdown",
      "source": [
        "# **<font color='red'>3.Text Preprocessing (Metin Ön işleme)</font>**"
      ],
      "metadata": {
        "id": "0c2AOVdtdjWZ"
      }
    },
    {
      "cell_type": "markdown",
      "source": [
        "**<font color='black'>\"review\" kolonundaki değerlendirme verilerine çeşitli ön işleme işlemleri uygulayarak veriyi işlemeye uygun hale getirirken yardım alacağımız kütüphane NLTK kütüphanesi olacak. NLTK(Natural Language Toolkit) 'Doğal Dil Araç Takımı' anlamına gelir. NLTK, insan dili verileriyle çalışmak için Pyhton programlama dili ile geliştirilmiş ve geliştirilmekte olan 50’nin üzerinde derlem(corpus) ve sözcük kaynağı(lexical resources) ile oluşturulmuş açık kaynaklı bir kütüphanedir. Bu kütüphanede bir takım modüller de mevcuttur, bu modüller verilerimizi ön işlemeden geçirirken, makine öğrenmesi algoritmalarını kullanırken, Twitter API ile işlemler yaparken vs. kullanacağımız paketlerdir. Bu küpüthanenin işlevlerine örnek olarak bizim de az sonra kullanacağımız, bir cümledeki kelimeleri ayırma (Tokenization) ve kelimede var olan ekleri kaldırıp kökü bulma (Stemming) örnek verilebilir.</font>**"
      ],
      "metadata": {
        "id": "wSbimMoAkH25"
      }
    },
    {
      "cell_type": "markdown",
      "source": [
        "**<font color='red'>a.Normalizasyon</font>**"
      ],
      "metadata": {
        "id": "4a9DRKJ93j54"
      }
    },
    {
      "cell_type": "code",
      "source": [
        "#NLTK kutuphanesinin import edilmesi ve 'stopwords'lerin indirilmesi\n",
        "import nltk\n",
        "nltk.download('stopwords')\n",
        "\n",
        "#Metin tokenizasyonu\n",
        "tokenizer=ToktokTokenizer()\n",
        "\n",
        "#Ingilizce stopwordlerin ayarlanmasi\n",
        "stopword_list=nltk.corpus.stopwords.words('english')"
      ],
      "metadata": {
        "colab": {
          "base_uri": "https://localhost:8080/"
        },
        "id": "OWo-RCcN1qSv",
        "outputId": "e6138852-e666-4ecb-f748-8a86582afb1c"
      },
      "execution_count": null,
      "outputs": [
        {
          "output_type": "stream",
          "name": "stdout",
          "text": [
            "[nltk_data] Downloading package stopwords to /root/nltk_data...\n",
            "[nltk_data]   Unzipping corpora/stopwords.zip.\n"
          ]
        }
      ]
    },
    {
      "cell_type": "markdown",
      "source": [
        "**<font color='red'>b.Gürültü Kaldırma</font>**"
      ],
      "metadata": {
        "id": "NkqFrBUkd0t5"
      }
    },
    {
      "cell_type": "code",
      "source": [
        "#HTML seritlerini kaldiran fonksiyon tanimlama\n",
        "def strip_html(text):\n",
        "    soup = BeautifulSoup(text, \"html.parser\")\n",
        "    return soup.get_text()\n",
        "\n",
        "#Koseli parantezleri kaldiran fonksiyon tanimlama\n",
        "def remove_between_square_brackets(text):\n",
        "    return re.sub('\\[[^]]*\\]', '', text)\n",
        "\n",
        "#Gurultuleri kaldiran fonksiyon tanimlama\n",
        "def denoise_text(text):\n",
        "    text = strip_html(text)\n",
        "    text = remove_between_square_brackets(text)\n",
        "    return text\n",
        "\n",
        "#\"review\" kolonuna gurultu kaldirma fonksiyonunun uygulanmasi\n",
        "imdb_data['review']=imdb_data['review'].apply(denoise_text)"
      ],
      "metadata": {
        "id": "67Ao_hak13M9"
      },
      "execution_count": null,
      "outputs": []
    },
    {
      "cell_type": "markdown",
      "source": [
        "**<font color='red'>c.Özel Karakterleri Kaldırma</font>**"
      ],
      "metadata": {
        "id": "_7kpkXVoeyJD"
      }
    },
    {
      "cell_type": "markdown",
      "source": [
        "**<font color='black'>Veri setimizde İngilizce değerlendirmelerle çalıştığımız için özel karakterlerin silindiğinden emin olmamız gerekiyor.</font>**"
      ],
      "metadata": {
        "id": "Obor__sw306-"
      }
    },
    {
      "cell_type": "code",
      "source": [
        "#Ozel karakterleri kaldiran fonksiyon tanimlama\n",
        "def remove_special_characters(text, remove_digits=True):\n",
        "    pattern=r'[^a-zA-z0-9\\s]'\n",
        "    text=re.sub(pattern,'',text)\n",
        "    return text\n",
        "\n",
        "#\"review\" kolonuna fonksiyonun uygulanmasi\n",
        "imdb_data['review']=imdb_data['review'].apply(remove_special_characters)"
      ],
      "metadata": {
        "id": "X3uGeU-0e9HO"
      },
      "execution_count": null,
      "outputs": []
    },
    {
      "cell_type": "markdown",
      "source": [
        "**<font color='red'>d.Stemming</font>**"
      ],
      "metadata": {
        "id": "XNnn73m9fbs4"
      }
    },
    {
      "cell_type": "markdown",
      "source": [
        "**<font color='black'>Stemming (köklendirme), ek almış kelimeleri aldığı eklerden arındırma veya İngilizcede zaman (tense) nedeniyle değişime uğramış kelimelerin kökünü tespit etme işlemidir.</font>**"
      ],
      "metadata": {
        "id": "dvNu6zKZfkqo"
      }
    },
    {
      "cell_type": "code",
      "source": [
        "#Stemming fonksiyonu tanimlama\n",
        "def simple_stemmer(text):\n",
        "    ps=nltk.porter.PorterStemmer()\n",
        "    text= ' '.join([ps.stem(word) for word in text.split()])\n",
        "    return text\n",
        "\n",
        "#\"review\" kolonuna fonksiyonun uygulanmasi\n",
        "imdb_data['review']=imdb_data['review'].apply(simple_stemmer)"
      ],
      "metadata": {
        "id": "hWTqDq-i2PcF"
      },
      "execution_count": null,
      "outputs": []
    },
    {
      "cell_type": "markdown",
      "source": [
        "**<font color='red'>e.Stopwords (Etkisiz Kelimeler) Kaldırma</font>**"
      ],
      "metadata": {
        "id": "Et03-c464bB_"
      }
    },
    {
      "cell_type": "markdown",
      "source": [
        "**<font color='black'>Durdurma sözcükleri, çok az anlamı olan veya hiç anlamı olmayan sözcüklerdir.</font>**"
      ],
      "metadata": {
        "id": "KAB7wAFJ4vUu"
      }
    },
    {
      "cell_type": "code",
      "source": [
        "stop=set(stopwords.words('english'))\n",
        "print(stop)\n",
        "\n",
        "#stopwordleri kaldiran fonksiyonu tanimlama\n",
        "def remove_stopwords(text, is_lower_case=False):\n",
        "    tokens = tokenizer.tokenize(text)\n",
        "    tokens = [token.strip() for token in tokens]\n",
        "    if is_lower_case:\n",
        "        filtered_tokens = [token for token in tokens if token not in stopword_list]\n",
        "    else:\n",
        "        filtered_tokens = [token for token in tokens if token.lower() not in stopword_list]\n",
        "    filtered_text = ' '.join(filtered_tokens)    \n",
        "    return filtered_text\n",
        "\n",
        "#\"review\" kolonuna fonksiyonun uygulanmasi\n",
        "imdb_data['review']=imdb_data['review'].apply(remove_stopwords) "
      ],
      "metadata": {
        "colab": {
          "base_uri": "https://localhost:8080/"
        },
        "id": "VF41eZlvhrVJ",
        "outputId": "42cf48c3-91e0-4ef9-be1b-a81de3031e99"
      },
      "execution_count": null,
      "outputs": [
        {
          "output_type": "stream",
          "name": "stdout",
          "text": [
            "{'each', 'i', 'theirs', \"wouldn't\", 'ourselves', 'he', 'very', 'no', 'when', 'you', \"hadn't\", 'but', 'his', 'herself', 'than', 'she', 'o', 'my', 'itself', 'yours', \"shouldn't\", 'through', 'doing', 'if', 'not', 'y', \"couldn't\", 'ma', \"didn't\", 'has', 'once', 'should', 'all', 'shan', 'wouldn', 'how', \"mightn't\", 'couldn', 'we', 'yourselves', 'll', 'are', 'both', \"needn't\", 'doesn', 'or', 'by', 'such', 'having', 'then', 'd', 'it', \"it's\", 'won', 'was', 'an', 'our', 'had', 'off', 'a', \"don't\", 're', 'with', 'into', 'needn', 'those', 'him', 'does', \"you'll\", 'why', 'out', 'between', 's', 'been', 'have', 'weren', 'any', 'for', 'myself', 'before', 'against', 'being', 've', 'only', 'on', \"hasn't\", 'under', \"you've\", 'they', 'hasn', 'did', 'mustn', 'were', \"mustn't\", 'which', \"should've\", 'about', 'here', 'its', 'other', 'will', 'until', 'am', 'do', 'ain', 'mightn', 'further', 'ours', 'again', 'more', 'and', \"isn't\", 'this', \"aren't\", 'the', 'these', 'few', 'just', 'them', \"you'd\", \"that'll\", 'her', 'above', 'too', 'can', 'now', \"shan't\", \"doesn't\", 'shouldn', 'me', 'aren', 'there', 'where', 'their', 'nor', 'themselves', 'most', 'is', 'in', 'haven', \"weren't\", 'during', 'over', 'don', 'whom', \"haven't\", 'down', 'that', 'below', 'same', 'as', 'didn', 'of', 'be', 'to', 'at', 't', 'your', 'hers', \"you're\", 'hadn', 'so', 'up', 'because', 'what', 'after', 'wasn', 'himself', 'while', 'some', 'isn', \"she's\", 'm', 'yourself', 'own', \"wasn't\", \"won't\", 'who', 'from'}\n"
          ]
        }
      ]
    },
    {
      "cell_type": "markdown",
      "source": [
        "# **<font color='red'>4.Veri Kümesini Train ve Test Verisi Olarak Ayırma</font>**"
      ],
      "metadata": {
        "id": "pUd7pOXZyZDc"
      }
    },
    {
      "cell_type": "code",
      "source": [
        "#train dataset\n",
        "train_reviews=imdb_data.review[:40000]\n",
        "train_sentiments=imdb_data.sentiment[:40000]\n",
        "#test dataset\n",
        "test_reviews=imdb_data.review[40000:]\n",
        "test_sentiments=imdb_data.sentiment[40000:]\n",
        "print(train_reviews.shape,train_sentiments.shape)\n",
        "print(test_reviews.shape,test_sentiments.shape)"
      ],
      "metadata": {
        "colab": {
          "base_uri": "https://localhost:8080/"
        },
        "id": "U0vQM6QazPPP",
        "outputId": "774c8f4b-d35f-4ff6-da25-af80d33c7912"
      },
      "execution_count": null,
      "outputs": [
        {
          "output_type": "stream",
          "name": "stdout",
          "text": [
            "(40000,) (40000,)\n",
            "(10000,) (10000,)\n"
          ]
        }
      ]
    },
    {
      "cell_type": "markdown",
      "source": [
        "# **<font color='red'>5.Bag of Words Modeli (Kelime Çantası Modeli) Oluşturma</font>**"
      ],
      "metadata": {
        "id": "3EGVCcCGoD1k"
      }
    },
    {
      "cell_type": "markdown",
      "source": [
        "**<font color='black'>Bag Of Words (Kelime Çantası): Metin belgelerini sayısal vektörlere veya kelime torbasına dönüştürmek için kullanılır.</font>**"
      ],
      "metadata": {
        "id": "3dJI51smoeU7"
      }
    },
    {
      "cell_type": "markdown",
      "source": [
        "**<font color='black'>Sklearn kitaplığından önceden oluşturulmuş CountVectorizer fonksiyonunu kullanacağız.</font>**\n"
      ],
      "metadata": {
        "id": "e0j-VGRIxv8t"
      }
    },
    {
      "cell_type": "code",
      "source": [
        "#Bag of Words icin countVectorizer olusturma\n",
        "cv=CountVectorizer(min_df=0,max_df=1,binary=False,ngram_range=(1,3))\n",
        "\n",
        "#train datasini donusturme\n",
        "cv_train_reviews=cv.fit_transform(train_reviews)\n",
        "\n",
        "#test datasini donusturme\n",
        "cv_test_reviews=cv.transform(test_reviews)\n",
        "\n",
        "print('BOW_cv_train:',cv_train_reviews.shape)\n",
        "print('BOW_cv_test:',cv_test_reviews.shape)"
      ],
      "metadata": {
        "colab": {
          "base_uri": "https://localhost:8080/"
        },
        "id": "8G-CIAV4oTBz",
        "outputId": "2095afab-6bf1-4821-ac1f-f3c45dfae3f2"
      },
      "execution_count": null,
      "outputs": [
        {
          "output_type": "stream",
          "name": "stdout",
          "text": [
            "BOW_cv_train: (40000, 6209089)\n",
            "BOW_cv_test: (10000, 6209089)\n"
          ]
        }
      ]
    },
    {
      "cell_type": "markdown",
      "source": [
        "# **<font color='red'>6.TF-IDF (Term Frequency-Inverse Document Frequency) Modeli Oluşturma</font>**"
      ],
      "metadata": {
        "id": "iRtBqoOopaat"
      }
    },
    {
      "cell_type": "markdown",
      "source": [
        "**<font color='black'>Metin belgelerini TF-IDF özellik matrisine dönüştürmek için kullanılır.</font>**"
      ],
      "metadata": {
        "id": "rYaz3GXXpnB8"
      }
    },
    {
      "cell_type": "markdown",
      "source": [
        "**<font color='black'>Term Frequency-Inverse Document Frequency (Terim Frekansı-Ters Belge Frekansı), bir kelimenin bir belge için ne kadar önemli olduğunun sayısal bir ölçüsüdür.</font>**"
      ],
      "metadata": {
        "id": "f97Gl0WHxfLF"
      }
    },
    {
      "cell_type": "code",
      "source": [
        "#TF-IDF vectorizer \n",
        "tv=TfidfVectorizer(min_df=0,max_df=1,use_idf=True,ngram_range=(1,3))\n",
        "\n",
        "#train datasini donusturme\n",
        "tv_train_reviews=tv.fit_transform(train_reviews)\n",
        "\n",
        "#test datasini donusturme\n",
        "tv_test_reviews=tv.transform(test_reviews)\n",
        "\n",
        "print('TF-IDF_train:',tv_train_reviews.shape)\n",
        "print('TF-IDF_test:',tv_test_reviews.shape)"
      ],
      "metadata": {
        "colab": {
          "base_uri": "https://localhost:8080/"
        },
        "id": "kL8ga2JnqJse",
        "outputId": "0f508479-b65c-4822-b676-0bf9832c18e4"
      },
      "execution_count": null,
      "outputs": [
        {
          "output_type": "stream",
          "name": "stdout",
          "text": [
            "TF-IDF_train: (40000, 6209089)\n",
            "TF-IDF_test: (10000, 6209089)\n"
          ]
        }
      ]
    },
    {
      "cell_type": "markdown",
      "source": [
        "**<font color='black'>Kelime Vektörleştirme olarak da bilinen Kelime Gömme, bir sözlükten karşılık gelen bir gerçek sayı vektörüne kelimeleri veya cümleleri eşlemek için kullanılan bir NLP (Natural Language Processing)  tekniğidir. Vektörleştirme, kelimeleri sayılara çevirme işlemidir.</font>**"
      ],
      "metadata": {
        "id": "qsDIGMJC93u5"
      }
    },
    {
      "cell_type": "markdown",
      "source": [
        "# **<font color='red'>7.Duygu Verisini Binary Etiketlere Dönüştürme</font>**"
      ],
      "metadata": {
        "id": "ONL-nk-L8bui"
      }
    },
    {
      "cell_type": "markdown",
      "source": [
        "**<font color='red'>a.Etiketleme</font>**"
      ],
      "metadata": {
        "id": "yVm_6M1D9JGZ"
      }
    },
    {
      "cell_type": "markdown",
      "source": [
        "**<font color='black'>Label Binarizer, Kategorik verileri alan ve bir Numpy dizisi çıkaran bir SciKit Learn sınıfıdır.</font>**"
      ],
      "metadata": {
        "id": "6Bik9sAw-hZw"
      }
    },
    {
      "cell_type": "code",
      "source": [
        "#\"sentiment\" verisini etiketleme\n",
        "lb=LabelBinarizer()\n",
        "\n",
        "#donusturulmus \"sentiment\" verisi\n",
        "sentiment_data=lb.fit_transform(imdb_data['sentiment'])\n",
        "\n",
        "print(sentiment_data.shape)"
      ],
      "metadata": {
        "colab": {
          "base_uri": "https://localhost:8080/"
        },
        "id": "ONQ814SH8ekQ",
        "outputId": "b80c2072-85f3-43b9-961d-8969f79f53dd"
      },
      "execution_count": null,
      "outputs": [
        {
          "output_type": "stream",
          "name": "stdout",
          "text": [
            "(50000, 1)\n"
          ]
        }
      ]
    },
    {
      "cell_type": "markdown",
      "source": [
        "**<font color='red'>b.Train ve Test Olarak Ayırma</font>**"
      ],
      "metadata": {
        "id": "VrLX8i_q9P_x"
      }
    },
    {
      "cell_type": "code",
      "source": [
        "#Duygu verilerini bolme\n",
        "train_sentiments=sentiment_data[:40000]\n",
        "test_sentiments=sentiment_data[40000:]\n",
        "print(train_sentiments)\n",
        "print(test_sentiments)"
      ],
      "metadata": {
        "colab": {
          "base_uri": "https://localhost:8080/"
        },
        "id": "dR_pnygM9T-J",
        "outputId": "1c34abf0-cb71-4777-a4ec-1f5999e0d271"
      },
      "execution_count": null,
      "outputs": [
        {
          "output_type": "stream",
          "name": "stdout",
          "text": [
            "[[1]\n",
            " [1]\n",
            " [1]\n",
            " ...\n",
            " [1]\n",
            " [0]\n",
            " [0]]\n",
            "[[0]\n",
            " [0]\n",
            " [0]\n",
            " ...\n",
            " [0]\n",
            " [0]\n",
            " [0]]\n"
          ]
        }
      ]
    },
    {
      "cell_type": "markdown",
      "source": [
        "# **<font color='red'>8.Modelleri Oluşturma ve Performanslarını Değerlendirme</font>**"
      ],
      "metadata": {
        "id": "oclu8E5U91LJ"
      }
    },
    {
      "cell_type": "markdown",
      "source": [
        "# **<font color='red'>a.Logistic Regression (Lojistik Regresyon)</font>**"
      ],
      "metadata": {
        "id": "ix36n0_S_W3S"
      }
    },
    {
      "cell_type": "markdown",
      "source": [
        "**<font color='red'>a.1.Modelin Oluşturulması ve Bag of Words ve TF-IDF İçin Uydurulması</font>**"
      ],
      "metadata": {
        "id": "1qCUhNH9ASoy"
      }
    },
    {
      "cell_type": "markdown",
      "source": [
        "**<font color='black'>Hem Bag of Words hem de TF-IDF özellikleri için lojistik regresyon modeli oluşturacağız.</font>**\n"
      ],
      "metadata": {
        "id": "CexvEZmB-Ulg"
      }
    },
    {
      "cell_type": "code",
      "source": [
        "#Modeli egitme\n",
        "lr=LogisticRegression(penalty='l2',max_iter=500,C=1,random_state=42)\n",
        "\n",
        "#Modeli Bag of Words icin uydurma\n",
        "lr_bow=lr.fit(cv_train_reviews,train_sentiments)\n",
        "print(lr_bow)\n",
        "\n",
        "#Modeli TF-IDF icin uydurma\n",
        "lr_tfidf=lr.fit(tv_train_reviews,train_sentiments)\n",
        "print(lr_tfidf)"
      ],
      "metadata": {
        "colab": {
          "base_uri": "https://localhost:8080/"
        },
        "id": "CME9qdVl-OpD",
        "outputId": "c055f606-ae5b-4067-ec63-3bd7fd4bd29d"
      },
      "execution_count": null,
      "outputs": [
        {
          "output_type": "stream",
          "name": "stdout",
          "text": [
            "LogisticRegression(C=1, max_iter=500, random_state=42)\n",
            "LogisticRegression(C=1, max_iter=500, random_state=42)\n"
          ]
        }
      ]
    },
    {
      "cell_type": "markdown",
      "source": [
        "**<font color='red'>a.2.Test Veri Seti Üzerinde Lojistik Regresyon Modeli Performansı</font>**"
      ],
      "metadata": {
        "id": "lSTMONjMAeSy"
      }
    },
    {
      "cell_type": "code",
      "source": [
        "#Bag of Words kullanan modelin tahminleri\n",
        "lr_bow_predict=lr.predict(cv_test_reviews)\n",
        "print(lr_bow_predict)\n",
        "\n",
        "#TF-IDF kullanan modelin tahminleri\n",
        "lr_tfidf_predict=lr.predict(tv_test_reviews)\n",
        "print(lr_tfidf_predict)"
      ],
      "metadata": {
        "colab": {
          "base_uri": "https://localhost:8080/"
        },
        "id": "5slAwg2pA8Zt",
        "outputId": "b2904b23-7788-429e-fa93-215a0fd94bee"
      },
      "execution_count": null,
      "outputs": [
        {
          "output_type": "stream",
          "name": "stdout",
          "text": [
            "[0 0 0 ... 0 1 1]\n",
            "[0 0 0 ... 0 1 1]\n"
          ]
        }
      ]
    },
    {
      "cell_type": "markdown",
      "source": [
        "**<font color='red'>a.3.Modelin Doğruluğu (Accuracy)</font>**"
      ],
      "metadata": {
        "id": "Q5bpcoHECQMK"
      }
    },
    {
      "cell_type": "code",
      "source": [
        "#Bag of Words icin accuracy\n",
        "lr_bow_score=accuracy_score(test_sentiments,lr_bow_predict)\n",
        "print(\"lr_bow_score :\",lr_bow_score)\n",
        "\n",
        "#TF-IDF icin accuracy\n",
        "lr_tfidf_score=accuracy_score(test_sentiments,lr_tfidf_predict)\n",
        "print(\"lr_tfidf_score :\",lr_tfidf_score)"
      ],
      "metadata": {
        "colab": {
          "base_uri": "https://localhost:8080/"
        },
        "id": "1W4-xqKFDDzS",
        "outputId": "cfd9a91a-bac8-4b11-81e7-7633ba5f2129"
      },
      "execution_count": null,
      "outputs": [
        {
          "output_type": "stream",
          "name": "stdout",
          "text": [
            "lr_bow_score : 0.7512\n",
            "lr_tfidf_score : 0.75\n"
          ]
        }
      ]
    },
    {
      "cell_type": "markdown",
      "source": [
        "**<font color='red'>a.4.Classification Report (Sınıflandırma Raporu)</font>**"
      ],
      "metadata": {
        "id": "Uey9zTrnDkwa"
      }
    },
    {
      "cell_type": "code",
      "source": [
        "#Bag of Words ozelligi icin classification raporu\n",
        "lr_bow_report=classification_report(test_sentiments,lr_bow_predict,target_names=['Positive','Negative'])\n",
        "print(\"Bag of Words classification report:\",'\\n', lr_bow_report)\n",
        "\n",
        "#TF-IDF ozelligi icin classification raporu\n",
        "lr_tfidf_report=classification_report(test_sentiments,lr_tfidf_predict,target_names=['Positive','Negative'])\n",
        "print(\"TF-IDF classification report:\",'\\n', lr_tfidf_report)"
      ],
      "metadata": {
        "colab": {
          "base_uri": "https://localhost:8080/"
        },
        "id": "LwTIYuYCENcK",
        "outputId": "115f3213-df0c-4b42-c36a-ffa2bfaab60e"
      },
      "execution_count": null,
      "outputs": [
        {
          "output_type": "stream",
          "name": "stdout",
          "text": [
            "Bag of Words classification report: \n",
            "               precision    recall  f1-score   support\n",
            "\n",
            "    Positive       0.75      0.75      0.75      4993\n",
            "    Negative       0.75      0.75      0.75      5007\n",
            "\n",
            "    accuracy                           0.75     10000\n",
            "   macro avg       0.75      0.75      0.75     10000\n",
            "weighted avg       0.75      0.75      0.75     10000\n",
            "\n",
            "TF-IDF classification report: \n",
            "               precision    recall  f1-score   support\n",
            "\n",
            "    Positive       0.74      0.77      0.75      4993\n",
            "    Negative       0.76      0.73      0.75      5007\n",
            "\n",
            "    accuracy                           0.75     10000\n",
            "   macro avg       0.75      0.75      0.75     10000\n",
            "weighted avg       0.75      0.75      0.75     10000\n",
            "\n"
          ]
        }
      ]
    },
    {
      "cell_type": "markdown",
      "source": [
        "**<font color='red'>a.5.Confusion Matrix (Karışıklık Matrisi)</font>**"
      ],
      "metadata": {
        "id": "dFJ7DPeTFvdD"
      }
    },
    {
      "cell_type": "markdown",
      "source": [
        "**<font color='black'>Karışıklık matrisi, bir sınıflandırma modelinin (veya sınıflandırıcının) gerçek değerleri bilinen bir dizi test verisi üzerinde ne kadar iyi performans gösterdiğini gösteren bir tablodur.</font>**"
      ],
      "metadata": {
        "id": "73ZQX5m9_bzV"
      }
    },
    {
      "cell_type": "code",
      "source": [
        "#Bag of Words icin confusion matrix\n",
        "cm_bow=confusion_matrix(test_sentiments,lr_bow_predict,labels=[1,0])\n",
        "print(cm_bow)\n",
        "#TF-IDF icin confusion matrix\n",
        "cm_tfidf=confusion_matrix(test_sentiments,lr_tfidf_predict,labels=[1,0])\n",
        "print(cm_tfidf)"
      ],
      "metadata": {
        "colab": {
          "base_uri": "https://localhost:8080/"
        },
        "id": "NUcjFNupF5NT",
        "outputId": "276eabd2-7a44-4a56-8c9b-d1f1eda185a0"
      },
      "execution_count": null,
      "outputs": [
        {
          "output_type": "stream",
          "name": "stdout",
          "text": [
            "[[3768 1239]\n",
            " [1249 3744]]\n",
            "[[3663 1344]\n",
            " [1156 3837]]\n"
          ]
        }
      ]
    },
    {
      "cell_type": "markdown",
      "source": [
        "# **<font color='red'>b.Linear Support Vector Machine (Doğrusal Destek Vektör Makinesi)</font>**"
      ],
      "metadata": {
        "id": "HjUM6I0iGrGc"
      }
    },
    {
      "cell_type": "markdown",
      "source": [
        "**<font color='red'>b.1.Modelin Oluşturulması ve Bag of Words ve TF-IDF İçin Uydurulması</font>**"
      ],
      "metadata": {
        "id": "zRCyGmSgLWuM"
      }
    },
    {
      "cell_type": "markdown",
      "source": [
        "**<font color='black'>Hem Bag of Words hem de TF-IDF özellikleri için Doğrusal SVM modeli oluşturacağız.</font>**"
      ],
      "metadata": {
        "id": "juos-LH2KxZM"
      }
    },
    {
      "cell_type": "code",
      "source": [
        "#Modeli egitme\n",
        "svm=SGDClassifier(loss='hinge',max_iter=500,random_state=42)\n",
        "\n",
        "#Modeli Bag of Words icin uydurma\n",
        "svm_bow=svm.fit(cv_train_reviews,train_sentiments)\n",
        "print(svm_bow)\n",
        "\n",
        "#Modeli TF-IDF icin uydurma\n",
        "svm_tfidf=svm.fit(tv_train_reviews,train_sentiments)\n",
        "print(svm_tfidf)"
      ],
      "metadata": {
        "colab": {
          "base_uri": "https://localhost:8080/"
        },
        "id": "sfP7lPpeK2g8",
        "outputId": "036150fd-5ca9-4fb6-ce29-15b7207b4002"
      },
      "execution_count": null,
      "outputs": [
        {
          "output_type": "stream",
          "name": "stdout",
          "text": [
            "SGDClassifier(max_iter=500, random_state=42)\n",
            "SGDClassifier(max_iter=500, random_state=42)\n"
          ]
        }
      ]
    },
    {
      "cell_type": "markdown",
      "source": [
        "**<font color='red'>b.2.Test Veri Seti Üzerinde Lojistik Regresyon Modeli Performansı</font>**"
      ],
      "metadata": {
        "id": "H-0CIddyLqRu"
      }
    },
    {
      "cell_type": "code",
      "source": [
        "#Bag of Words kullanan modelin tahminleri\n",
        "svm_bow_predict=svm.predict(cv_test_reviews)\n",
        "print(svm_bow_predict)\n",
        "\n",
        "#TF-IDF kullanan modelin tahminleri\n",
        "svm_tfidf_predict=svm.predict(tv_test_reviews)\n",
        "print(svm_tfidf_predict)"
      ],
      "metadata": {
        "colab": {
          "base_uri": "https://localhost:8080/"
        },
        "id": "zNxpFOSNLrxa",
        "outputId": "e0edb8bf-c0dc-4fe2-97d6-3a8701362046"
      },
      "execution_count": null,
      "outputs": [
        {
          "output_type": "stream",
          "name": "stdout",
          "text": [
            "[1 1 0 ... 1 1 1]\n",
            "[1 1 1 ... 1 1 1]\n"
          ]
        }
      ]
    },
    {
      "cell_type": "markdown",
      "source": [
        "**<font color='red'>b.3.Modelin Doğruluğu (Accuracy)</font>**"
      ],
      "metadata": {
        "id": "b68B5PpfL8F5"
      }
    },
    {
      "cell_type": "code",
      "source": [
        "#Bag of Words icin accuracy\n",
        "svm_bow_score=accuracy_score(test_sentiments,svm_bow_predict)\n",
        "print(\"svm_bow_score :\",svm_bow_score)\n",
        "\n",
        "#TF-IDF icin accuracy\n",
        "svm_tfidf_score=accuracy_score(test_sentiments,svm_tfidf_predict)\n",
        "print(\"svm_tfidf_score :\",svm_tfidf_score)"
      ],
      "metadata": {
        "colab": {
          "base_uri": "https://localhost:8080/"
        },
        "id": "GQ7-3bGGL5Dd",
        "outputId": "500d8fab-be0b-4431-fa65-d1c5cb31c66f"
      },
      "execution_count": null,
      "outputs": [
        {
          "output_type": "stream",
          "name": "stdout",
          "text": [
            "svm_bow_score : 0.5829\n",
            "svm_tfidf_score : 0.5112\n"
          ]
        }
      ]
    },
    {
      "cell_type": "markdown",
      "source": [
        "**<font color='red'>b.4.Classification Report (Sınıflandırma Raporu)</font>**"
      ],
      "metadata": {
        "id": "Oeplh9z3Mo70"
      }
    },
    {
      "cell_type": "code",
      "source": [
        "#Bag of Words ozelligi icin classification raporu\n",
        "svm_bow_report=classification_report(test_sentiments,svm_bow_predict,target_names=['Positive','Negative'])\n",
        "print(\"Bag of Words classification report:\",'\\n',svm_bow_report)\n",
        "\n",
        "#TF-IDF ozelligi icin classification raporu\n",
        "svm_tfidf_report=classification_report(test_sentiments,svm_tfidf_predict,target_names=['Positive','Negative'])\n",
        "print(\"TF-IDF classification report:\",'\\n',svm_tfidf_report)"
      ],
      "metadata": {
        "colab": {
          "base_uri": "https://localhost:8080/"
        },
        "id": "bxVDYiHPMqYt",
        "outputId": "5d65350a-9cc5-4f02-91f7-15b369d882dc"
      },
      "execution_count": null,
      "outputs": [
        {
          "output_type": "stream",
          "name": "stdout",
          "text": [
            "Bag of Words classification report: \n",
            "               precision    recall  f1-score   support\n",
            "\n",
            "    Positive       0.94      0.18      0.30      4993\n",
            "    Negative       0.55      0.99      0.70      5007\n",
            "\n",
            "    accuracy                           0.58     10000\n",
            "   macro avg       0.74      0.58      0.50     10000\n",
            "weighted avg       0.74      0.58      0.50     10000\n",
            "\n",
            "TF-IDF classification report: \n",
            "               precision    recall  f1-score   support\n",
            "\n",
            "    Positive       1.00      0.02      0.04      4993\n",
            "    Negative       0.51      1.00      0.67      5007\n",
            "\n",
            "    accuracy                           0.51     10000\n",
            "   macro avg       0.75      0.51      0.36     10000\n",
            "weighted avg       0.75      0.51      0.36     10000\n",
            "\n"
          ]
        }
      ]
    },
    {
      "cell_type": "markdown",
      "source": [
        "**<font color='red'>b.5.Confusion Matrix (Karışıklık Matrisi)</font>**"
      ],
      "metadata": {
        "id": "QcRBPaRTM-gz"
      }
    },
    {
      "cell_type": "code",
      "source": [
        "#Bag of Words icin confusion matrix\n",
        "cm_bow=confusion_matrix(test_sentiments,svm_bow_predict,labels=[1,0])\n",
        "print(cm_bow)\n",
        "\n",
        "#TF-IDF icin confusion matrix\n",
        "cm_tfidf=confusion_matrix(test_sentiments,svm_tfidf_predict,labels=[1,0])\n",
        "print(cm_tfidf)"
      ],
      "metadata": {
        "colab": {
          "base_uri": "https://localhost:8080/"
        },
        "id": "iNZXmFrxNAqc",
        "outputId": "bc910ceb-9587-486c-d021-e72efd188db8"
      },
      "execution_count": null,
      "outputs": [
        {
          "output_type": "stream",
          "name": "stdout",
          "text": [
            "[[4948   59]\n",
            " [4112  881]]\n",
            "[[5007    0]\n",
            " [4888  105]]\n"
          ]
        }
      ]
    }
  ]
}